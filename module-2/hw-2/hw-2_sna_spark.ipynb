{
 "cells": [
  {
   "cell_type": "markdown",
   "metadata": {},
   "source": [
    "1. Скачайте датасет\n",
    "https://cloud.mail.ru/public/A9cF/bVSWJCJgt/\n",
    "\n",
    "2. Ознакомьтесь с его описанием\n",
    "https://mlbootcamp.ru/ru/round/17/sandbox/"
   ]
  },
  {
   "cell_type": "code",
   "execution_count": 1,
   "metadata": {},
   "outputs": [
    {
     "name": "stdout",
     "output_type": "stream",
     "text": [
      "Loading spark-stubs\n",
      "Getting spark JARs\n",
      "Creating SparkSession\n"
     ]
    },
    {
     "name": "stderr",
     "output_type": "stream",
     "text": [
      "Using Spark's default log4j profile: org/apache/spark/log4j-defaults.properties\n"
     ]
    },
    {
     "data": {
      "text/html": [
       "<a target=\"_blank\" href=\"http://c1df2afca4f3:4040\">Spark UI</a>"
      ]
     },
     "metadata": {},
     "output_type": "display_data"
    },
    {
     "data": {
      "text/plain": [
       "\u001b[32mimport \u001b[39m\u001b[36m$ivy.$                                  \n",
       "\n",
       "\u001b[39m\n",
       "\u001b[32mimport \u001b[39m\u001b[36morg.apache.log4j.{Level, Logger}\n",
       "\u001b[39m\n",
       "\u001b[32mimport \u001b[39m\u001b[36morg.apache.spark.sql._\n",
       "\n",
       "\u001b[39m\n",
       "\u001b[36mspark\u001b[39m: \u001b[32mSparkSession\u001b[39m = org.apache.spark.sql.SparkSession@590f16b2"
      ]
     },
     "execution_count": 1,
     "metadata": {},
     "output_type": "execute_result"
    }
   ],
   "source": [
    "import $ivy.`org.apache.spark::spark-sql:2.4.5`\n",
    "import $ivy.`org.apache.spark::spark-mllib:2.4.0`\n",
    "\n",
    "import org.apache.log4j.{Level, Logger}\n",
    "Logger.getLogger(\"org\").setLevel(Level.OFF)\n",
    "\n",
    "import org.apache.spark.sql._\n",
    "\n",
    "val spark = NotebookSparkSession\n",
    "    .builder()\n",
    "    .master(\"local[*]\")\n",
    "    .getOrCreate()"
   ]
  },
  {
   "cell_type": "code",
   "execution_count": 2,
   "metadata": {},
   "outputs": [
    {
     "data": {
      "text/plain": [
       "defined \u001b[32mfunction\u001b[39m \u001b[36msc\u001b[39m\n",
       "defined \u001b[32mfunction\u001b[39m \u001b[36msqlc\u001b[39m"
      ]
     },
     "execution_count": 2,
     "metadata": {},
     "output_type": "execute_result"
    }
   ],
   "source": [
    "def sc = spark.sparkContext\n",
    "def sqlc = spark.sqlContext"
   ]
  },
  {
   "cell_type": "code",
   "execution_count": 3,
   "metadata": {},
   "outputs": [
    {
     "data": {
      "text/plain": [
       "\u001b[32mimport \u001b[39m\u001b[36mspark.implicits._\u001b[39m"
      ]
     },
     "execution_count": 3,
     "metadata": {},
     "output_type": "execute_result"
    }
   ],
   "source": [
    "import spark.implicits._"
   ]
  },
  {
   "cell_type": "markdown",
   "metadata": {},
   "source": [
    "Read data"
   ]
  },
  {
   "cell_type": "code",
   "execution_count": 4,
   "metadata": {},
   "outputs": [
    {
     "data": {
      "text/html": [
       "<script>\n",
       "var comm = Jupyter.notebook.kernel.comm_manager.new_comm('cancel-stage-1f67b7d0-c585-4521-8db3-41553eee18a4', {});\n",
       "\n",
       "function cancelStage(stageId) {\n",
       "  console.log('Cancelling stage ' + stageId);\n",
       "  comm.send({ 'stageId': stageId });\n",
       "}\n",
       "</script>\n",
       "          "
      ]
     },
     "metadata": {},
     "output_type": "display_data"
    },
    {
     "data": {
      "text/html": [
       "<div>\n",
       "  <span style=\"float: left;\">parquet at cmd3.sc:1</span>\n",
       "</div>\n"
      ]
     },
     "metadata": {},
     "output_type": "display_data"
    },
    {
     "data": {
      "text/html": [
       "<div class=\"progress\">\n",
       "  <div class=\"progress-bar\" role=\"progressbar\" style=\"background-color: blue; width: 100%; word-wrap: normal; white-space: nowrap; text-align: center; color: white\" aria-valuenow=\"100\" aria-valuemin=\"0\" aria-valuemax=\"100\">\n",
       "    48 / 48\n",
       "  </div>\n",
       "  <div class=\"progress-bar\" role=\"progressbar\" style=\"background-color: red; width: 0%\" aria-valuenow=\"0\" aria-valuemin=\"0\" aria-valuemax=\"100\"></div>\n",
       "</div>\n"
      ]
     },
     "metadata": {},
     "output_type": "display_data"
    },
    {
     "data": {
      "text/html": [
       "<div>\n",
       "  <span style=\"float: left;\">parquet at cmd3.sc:1</span>\n",
       "</div>\n"
      ]
     },
     "metadata": {},
     "output_type": "display_data"
    },
    {
     "data": {
      "text/html": [
       "<div class=\"progress\">\n",
       "  <div class=\"progress-bar\" role=\"progressbar\" style=\"background-color: blue; width: 100%; word-wrap: normal; white-space: nowrap; text-align: center; color: white\" aria-valuenow=\"100\" aria-valuemin=\"0\" aria-valuemax=\"100\">\n",
       "    1 / 1\n",
       "  </div>\n",
       "  <div class=\"progress-bar\" role=\"progressbar\" style=\"background-color: red; width: 0%\" aria-valuenow=\"0\" aria-valuemin=\"0\" aria-valuemax=\"100\"></div>\n",
       "</div>\n"
      ]
     },
     "metadata": {},
     "output_type": "display_data"
    },
    {
     "data": {
      "text/plain": [
       "\u001b[36mtrain\u001b[39m: \u001b[32mDataFrame\u001b[39m = [instanceId_userId: int, instanceId_objectType: string ... 167 more fields]"
      ]
     },
     "execution_count": 4,
     "metadata": {},
     "output_type": "execute_result"
    }
   ],
   "source": [
    "val train = sqlc.read.parquet(\"collabTrain\")"
   ]
  },
  {
   "cell_type": "code",
   "execution_count": 5,
   "metadata": {},
   "outputs": [
    {
     "name": "stdout",
     "output_type": "stream",
     "text": [
      "root\n",
      " |-- instanceId_userId: integer (nullable = true)\n",
      " |-- instanceId_objectType: string (nullable = true)\n",
      " |-- instanceId_objectId: integer (nullable = true)\n",
      " |-- audit_pos: long (nullable = true)\n",
      " |-- audit_clientType: string (nullable = true)\n",
      " |-- audit_timestamp: long (nullable = true)\n",
      " |-- audit_timePassed: long (nullable = true)\n",
      " |-- audit_experiment: string (nullable = true)\n",
      " |-- audit_resourceType: long (nullable = true)\n",
      " |-- metadata_ownerId: integer (nullable = true)\n",
      " |-- metadata_ownerType: string (nullable = true)\n",
      " |-- metadata_createdAt: long (nullable = true)\n",
      " |-- metadata_authorId: integer (nullable = true)\n",
      " |-- metadata_applicationId: long (nullable = true)\n",
      " |-- metadata_numCompanions: integer (nullable = true)\n",
      " |-- metadata_numPhotos: integer (nullable = true)\n",
      " |-- metadata_numPolls: integer (nullable = true)\n",
      " |-- metadata_numSymbols: integer (nullable = true)\n",
      " |-- metadata_numTokens: integer (nullable = true)\n",
      " |-- metadata_numVideos: integer (nullable = true)\n",
      " |-- metadata_platform: string (nullable = true)\n",
      " |-- metadata_totalVideoLength: integer (nullable = true)\n",
      " |-- metadata_options: array (nullable = true)\n",
      " |    |-- element: string (containsNull = true)\n",
      " |-- relationsMask: long (nullable = true)\n",
      " |-- userOwnerCounters_USER_FEED_REMOVE: double (nullable = true)\n",
      " |-- userOwnerCounters_USER_PROFILE_VIEW: double (nullable = true)\n",
      " |-- userOwnerCounters_VOTE_POLL: double (nullable = true)\n",
      " |-- userOwnerCounters_USER_SEND_MESSAGE: double (nullable = true)\n",
      " |-- userOwnerCounters_USER_DELETE_MESSAGE: double (nullable = true)\n",
      " |-- userOwnerCounters_USER_INTERNAL_LIKE: double (nullable = true)\n",
      " |-- userOwnerCounters_USER_INTERNAL_UNLIKE: double (nullable = true)\n",
      " |-- userOwnerCounters_USER_STATUS_COMMENT_CREATE: double (nullable = true)\n",
      " |-- userOwnerCounters_PHOTO_COMMENT_CREATE: double (nullable = true)\n",
      " |-- userOwnerCounters_MOVIE_COMMENT_CREATE: double (nullable = true)\n",
      " |-- userOwnerCounters_USER_PHOTO_ALBUM_COMMENT_CREATE: double (nullable = true)\n",
      " |-- userOwnerCounters_COMMENT_INTERNAL_LIKE: double (nullable = true)\n",
      " |-- userOwnerCounters_USER_FORUM_MESSAGE_CREATE: double (nullable = true)\n",
      " |-- userOwnerCounters_PHOTO_MARK_CREATE: double (nullable = true)\n",
      " |-- userOwnerCounters_PHOTO_VIEW: double (nullable = true)\n",
      " |-- userOwnerCounters_PHOTO_PIN_BATCH_CREATE: double (nullable = true)\n",
      " |-- userOwnerCounters_PHOTO_PIN_UPDATE: double (nullable = true)\n",
      " |-- userOwnerCounters_USER_PRESENT_SEND: double (nullable = true)\n",
      " |-- userOwnerCounters_UNKNOWN: double (nullable = true)\n",
      " |-- userOwnerCounters_CREATE_TOPIC: double (nullable = true)\n",
      " |-- userOwnerCounters_CREATE_IMAGE: double (nullable = true)\n",
      " |-- userOwnerCounters_CREATE_MOVIE: double (nullable = true)\n",
      " |-- userOwnerCounters_CREATE_COMMENT: double (nullable = true)\n",
      " |-- userOwnerCounters_CREATE_LIKE: double (nullable = true)\n",
      " |-- userOwnerCounters_TEXT: double (nullable = true)\n",
      " |-- userOwnerCounters_IMAGE: double (nullable = true)\n",
      " |-- userOwnerCounters_VIDEO: double (nullable = true)\n",
      " |-- ownerUserCounters_USER_FEED_REMOVE: double (nullable = true)\n",
      " |-- ownerUserCounters_USER_PROFILE_VIEW: double (nullable = true)\n",
      " |-- ownerUserCounters_VOTE_POLL: double (nullable = true)\n",
      " |-- ownerUserCounters_USER_SEND_MESSAGE: double (nullable = true)\n",
      " |-- ownerUserCounters_USER_DELETE_MESSAGE: double (nullable = true)\n",
      " |-- ownerUserCounters_USER_INTERNAL_LIKE: double (nullable = true)\n",
      " |-- ownerUserCounters_USER_INTERNAL_UNLIKE: double (nullable = true)\n",
      " |-- ownerUserCounters_USER_STATUS_COMMENT_CREATE: double (nullable = true)\n",
      " |-- ownerUserCounters_PHOTO_COMMENT_CREATE: double (nullable = true)\n",
      " |-- ownerUserCounters_MOVIE_COMMENT_CREATE: double (nullable = true)\n",
      " |-- ownerUserCounters_USER_PHOTO_ALBUM_COMMENT_CREATE: double (nullable = true)\n",
      " |-- ownerUserCounters_COMMENT_INTERNAL_LIKE: double (nullable = true)\n",
      " |-- ownerUserCounters_USER_FORUM_MESSAGE_CREATE: double (nullable = true)\n",
      " |-- ownerUserCounters_PHOTO_MARK_CREATE: double (nullable = true)\n",
      " |-- ownerUserCounters_PHOTO_VIEW: double (nullable = true)\n",
      " |-- ownerUserCounters_PHOTO_PIN_BATCH_CREATE: double (nullable = true)\n",
      " |-- ownerUserCounters_PHOTO_PIN_UPDATE: double (nullable = true)\n",
      " |-- ownerUserCounters_USER_PRESENT_SEND: double (nullable = true)\n",
      " |-- ownerUserCounters_UNKNOWN: double (nullable = true)\n",
      " |-- ownerUserCounters_CREATE_TOPIC: double (nullable = true)\n",
      " |-- ownerUserCounters_CREATE_IMAGE: double (nullable = true)\n",
      " |-- ownerUserCounters_CREATE_MOVIE: double (nullable = true)\n",
      " |-- ownerUserCounters_CREATE_COMMENT: double (nullable = true)\n",
      " |-- ownerUserCounters_CREATE_LIKE: double (nullable = true)\n",
      " |-- ownerUserCounters_TEXT: double (nullable = true)\n",
      " |-- ownerUserCounters_IMAGE: double (nullable = true)\n",
      " |-- ownerUserCounters_VIDEO: double (nullable = true)\n",
      " |-- membership_status: string (nullable = true)\n",
      " |-- membership_statusUpdateDate: long (nullable = true)\n",
      " |-- membership_joinDate: long (nullable = true)\n",
      " |-- membership_joinRequestDate: long (nullable = true)\n",
      " |-- owner_create_date: long (nullable = true)\n",
      " |-- owner_birth_date: integer (nullable = true)\n",
      " |-- owner_gender: integer (nullable = true)\n",
      " |-- owner_status: integer (nullable = true)\n",
      " |-- owner_ID_country: long (nullable = true)\n",
      " |-- owner_ID_Location: integer (nullable = true)\n",
      " |-- owner_is_active: integer (nullable = true)\n",
      " |-- owner_is_deleted: integer (nullable = true)\n",
      " |-- owner_is_abused: integer (nullable = true)\n",
      " |-- owner_is_activated: integer (nullable = true)\n",
      " |-- owner_change_datime: long (nullable = true)\n",
      " |-- owner_is_semiactivated: integer (nullable = true)\n",
      " |-- owner_region: integer (nullable = true)\n",
      " |-- user_create_date: long (nullable = true)\n",
      " |-- user_birth_date: integer (nullable = true)\n",
      " |-- user_gender: integer (nullable = true)\n",
      " |-- user_status: integer (nullable = true)\n",
      " |-- user_ID_country: long (nullable = true)\n",
      " |-- user_ID_Location: integer (nullable = true)\n",
      " |-- user_is_active: integer (nullable = true)\n",
      " |-- user_is_deleted: integer (nullable = true)\n",
      " |-- user_is_abused: integer (nullable = true)\n",
      " |-- user_is_activated: integer (nullable = true)\n",
      " |-- user_change_datime: long (nullable = true)\n",
      " |-- user_is_semiactivated: integer (nullable = true)\n",
      " |-- user_region: integer (nullable = true)\n",
      " |-- feedback: array (nullable = true)\n",
      " |    |-- element: string (containsNull = true)\n",
      " |-- objectId: integer (nullable = true)\n",
      " |-- auditweights_ageMs: double (nullable = true)\n",
      " |-- auditweights_closed: double (nullable = true)\n",
      " |-- auditweights_ctr_gender: double (nullable = true)\n",
      " |-- auditweights_ctr_high: double (nullable = true)\n",
      " |-- auditweights_ctr_negative: double (nullable = true)\n",
      " |-- auditweights_dailyRecency: double (nullable = true)\n",
      " |-- auditweights_feedOwner_RECOMMENDED_GROUP: double (nullable = true)\n",
      " |-- auditweights_feedStats: double (nullable = true)\n",
      " |-- auditweights_friendCommentFeeds: double (nullable = true)\n",
      " |-- auditweights_friendCommenters: double (nullable = true)\n",
      " |-- auditweights_friendLikes: double (nullable = true)\n",
      " |-- auditweights_friendLikes_actors: double (nullable = true)\n",
      " |-- auditweights_hasDetectedText: double (nullable = true)\n",
      " |-- auditweights_hasText: double (nullable = true)\n",
      " |-- auditweights_isPymk: double (nullable = true)\n",
      " |-- auditweights_isRandom: double (nullable = true)\n",
      " |-- auditweights_likersFeedStats_hyper: double (nullable = true)\n",
      " |-- auditweights_likersSvd_prelaunch_hyper: double (nullable = true)\n",
      " |-- auditweights_matrix: double (nullable = true)\n",
      " |-- auditweights_notOriginalPhoto: double (nullable = true)\n",
      " |-- auditweights_numDislikes: double (nullable = true)\n",
      " |-- auditweights_numLikes: double (nullable = true)\n",
      " |-- auditweights_numShows: double (nullable = true)\n",
      " |-- auditweights_onlineVideo: double (nullable = true)\n",
      " |-- auditweights_partAge: double (nullable = true)\n",
      " |-- auditweights_partCtr: double (nullable = true)\n",
      " |-- auditweights_partSvd: double (nullable = true)\n",
      " |-- auditweights_processedVideo: double (nullable = true)\n",
      " |-- auditweights_relationMasks: double (nullable = true)\n",
      " |-- auditweights_source_LIVE_TOP: double (nullable = true)\n",
      " |-- auditweights_source_MOVIE_TOP: double (nullable = true)\n",
      " |-- auditweights_svd_prelaunch: double (nullable = true)\n",
      " |-- auditweights_svd_spark: double (nullable = true)\n",
      " |-- auditweights_userAge: double (nullable = true)\n",
      " |-- auditweights_userOwner_CREATE_COMMENT: double (nullable = true)\n",
      " |-- auditweights_userOwner_CREATE_IMAGE: double (nullable = true)\n",
      " |-- auditweights_userOwner_CREATE_LIKE: double (nullable = true)\n",
      " |-- auditweights_userOwner_IMAGE: double (nullable = true)\n",
      " |-- auditweights_userOwner_MOVIE_COMMENT_CREATE: double (nullable = true)\n",
      " |-- auditweights_userOwner_PHOTO_COMMENT_CREATE: double (nullable = true)\n",
      " |-- auditweights_userOwner_PHOTO_MARK_CREATE: double (nullable = true)\n",
      " |-- auditweights_userOwner_PHOTO_VIEW: double (nullable = true)\n",
      " |-- auditweights_userOwner_TEXT: double (nullable = true)\n",
      " |-- auditweights_userOwner_UNKNOWN: double (nullable = true)\n",
      " |-- auditweights_userOwner_USER_DELETE_MESSAGE: double (nullable = true)\n",
      " |-- auditweights_userOwner_USER_FEED_REMOVE: double (nullable = true)\n",
      " |-- auditweights_userOwner_USER_FORUM_MESSAGE_CREATE: double (nullable = true)\n"
     ]
    },
    {
     "name": "stdout",
     "output_type": "stream",
     "text": [
      " |-- auditweights_userOwner_USER_INTERNAL_LIKE: double (nullable = true)\n",
      " |-- auditweights_userOwner_USER_INTERNAL_UNLIKE: double (nullable = true)\n",
      " |-- auditweights_userOwner_USER_PRESENT_SEND: double (nullable = true)\n",
      " |-- auditweights_userOwner_USER_PROFILE_VIEW: double (nullable = true)\n",
      " |-- auditweights_userOwner_USER_SEND_MESSAGE: double (nullable = true)\n",
      " |-- auditweights_userOwner_USER_STATUS_COMMENT_CREATE: double (nullable = true)\n",
      " |-- auditweights_userOwner_VIDEO: double (nullable = true)\n",
      " |-- auditweights_userOwner_VOTE_POLL: double (nullable = true)\n",
      " |-- auditweights_x_ActorsRelations: long (nullable = true)\n",
      " |-- auditweights_likersSvd_spark_hyper: double (nullable = true)\n",
      " |-- auditweights_source_PROMO: double (nullable = true)\n",
      " |-- date: date (nullable = true)\n",
      "\n"
     ]
    }
   ],
   "source": [
    "train.printSchema"
   ]
  },
  {
   "cell_type": "code",
   "execution_count": 6,
   "metadata": {},
   "outputs": [
    {
     "data": {
      "text/plain": [
       "\u001b[32mimport \u001b[39m\u001b[36m$ivy.$                                      \n",
       "\u001b[39m\n",
       "\u001b[32mimport \u001b[39m\u001b[36mplotly._, plotly.element._, plotly.layout._, plotly.Almond._\u001b[39m"
      ]
     },
     "execution_count": 6,
     "metadata": {},
     "output_type": "execute_result"
    }
   ],
   "source": [
    "import $ivy.`org.plotly-scala::plotly-almond:0.7.6`\n",
    "import plotly._, plotly.element._, plotly.layout._, plotly.Almond._"
   ]
  },
  {
   "cell_type": "markdown",
   "metadata": {},
   "source": [
    "### 1. Постройте топ популярных групп на портале"
   ]
  },
  {
   "cell_type": "markdown",
   "metadata": {},
   "source": [
    "ownerId - группа в которой опубликован пост"
   ]
  },
  {
   "cell_type": "code",
   "execution_count": 7,
   "metadata": {},
   "outputs": [
    {
     "data": {
      "text/html": [
       "<div>\n",
       "  <span style=\"float: left;\">show at cmd6.sc:6</span>\n",
       "</div>\n"
      ]
     },
     "metadata": {},
     "output_type": "display_data"
    },
    {
     "data": {
      "text/html": [
       "<div class=\"progress\">\n",
       "  <div class=\"progress-bar\" role=\"progressbar\" style=\"background-color: blue; width: 100%; word-wrap: normal; white-space: nowrap; text-align: center; color: white\" aria-valuenow=\"100\" aria-valuemin=\"0\" aria-valuemax=\"100\">\n",
       "    28 / 28\n",
       "  </div>\n",
       "  <div class=\"progress-bar\" role=\"progressbar\" style=\"background-color: red; width: 0%\" aria-valuenow=\"0\" aria-valuemin=\"0\" aria-valuemax=\"100\"></div>\n",
       "</div>\n"
      ]
     },
     "metadata": {},
     "output_type": "display_data"
    },
    {
     "data": {
      "text/html": [
       "<div>\n",
       "  <span style=\"float: left;\">show at cmd6.sc:6</span>\n",
       "</div>\n"
      ]
     },
     "metadata": {},
     "output_type": "display_data"
    },
    {
     "data": {
      "text/html": [
       "<div class=\"progress\">\n",
       "  <div class=\"progress-bar\" role=\"progressbar\" style=\"background-color: blue; width: 100%; word-wrap: normal; white-space: nowrap; text-align: center; color: white\" aria-valuenow=\"100\" aria-valuemin=\"0\" aria-valuemax=\"100\">\n",
       "    200 / 200\n",
       "  </div>\n",
       "  <div class=\"progress-bar\" role=\"progressbar\" style=\"background-color: red; width: 0%\" aria-valuenow=\"0\" aria-valuemin=\"0\" aria-valuemax=\"100\"></div>\n",
       "</div>\n"
      ]
     },
     "metadata": {},
     "output_type": "display_data"
    },
    {
     "data": {
      "text/html": [
       "<div>\n",
       "  <span style=\"float: left;\">show at cmd6.sc:6</span>\n",
       "</div>\n"
      ]
     },
     "metadata": {},
     "output_type": "display_data"
    },
    {
     "data": {
      "text/html": [
       "<div class=\"progress\">\n",
       "  <div class=\"progress-bar\" role=\"progressbar\" style=\"background-color: blue; width: 100%; word-wrap: normal; white-space: nowrap; text-align: center; color: white\" aria-valuenow=\"100\" aria-valuemin=\"0\" aria-valuemax=\"100\">\n",
       "    1 / 1\n",
       "  </div>\n",
       "  <div class=\"progress-bar\" role=\"progressbar\" style=\"background-color: red; width: 0%\" aria-valuenow=\"0\" aria-valuemin=\"0\" aria-valuemax=\"100\"></div>\n",
       "</div>\n"
      ]
     },
     "metadata": {},
     "output_type": "display_data"
    },
    {
     "name": "stdout",
     "output_type": "stream",
     "text": [
      "+----------------+-----+\n",
      "|metadata_ownerId|count|\n",
      "+----------------+-----+\n",
      "|           37463|71558|\n",
      "|           76851|53090|\n",
      "|           11222|49656|\n",
      "|           65305|46334|\n",
      "|            8225|44342|\n",
      "|           38703|44308|\n",
      "|           18942|42829|\n",
      "|           62833|40545|\n",
      "|           79619|40540|\n",
      "|           19481|40370|\n",
      "|           11058|39888|\n",
      "|           77398|38763|\n",
      "|           14285|38513|\n",
      "|           67111|37648|\n",
      "|            9182|36496|\n",
      "|           51346|36443|\n",
      "|           64184|35938|\n",
      "|           12639|35694|\n",
      "|           20350|33749|\n",
      "|           60195|33428|\n",
      "+----------------+-----+\n",
      "\n"
     ]
    },
    {
     "data": {
      "text/plain": [
       "\u001b[36mtop_groups\u001b[39m: \u001b[32mDataset\u001b[39m[\u001b[32mRow\u001b[39m] = [metadata_ownerId: int, count: bigint]"
      ]
     },
     "execution_count": 7,
     "metadata": {},
     "output_type": "execute_result"
    }
   ],
   "source": [
    "val top_groups = train\n",
    "    .groupBy($\"metadata_ownerId\")\n",
    "    .count()\n",
    "    .orderBy($\"count\".desc)\n",
    "    .limit(20)\n",
    "top_groups.show"
   ]
  },
  {
   "cell_type": "code",
   "execution_count": 8,
   "metadata": {},
   "outputs": [
    {
     "data": {
      "text/plain": [
       "defined \u001b[32mfunction\u001b[39m \u001b[36mappend\u001b[39m"
      ]
     },
     "execution_count": 8,
     "metadata": {},
     "output_type": "execute_result"
    }
   ],
   "source": [
    "def append(init: String, tails: Seq[String]) = tails.map(x => init + x)"
   ]
  },
  {
   "cell_type": "code",
   "execution_count": 9,
   "metadata": {},
   "outputs": [
    {
     "data": {
      "text/html": [
       "<div>\n",
       "  <span style=\"float: left;\">collect at cmd8.sc:1</span>\n",
       "</div>\n"
      ]
     },
     "metadata": {},
     "output_type": "display_data"
    },
    {
     "data": {
      "text/html": [
       "<div class=\"progress\">\n",
       "  <div class=\"progress-bar\" role=\"progressbar\" style=\"background-color: blue; width: 100%; word-wrap: normal; white-space: nowrap; text-align: center; color: white\" aria-valuenow=\"100\" aria-valuemin=\"0\" aria-valuemax=\"100\">\n",
       "    28 / 28\n",
       "  </div>\n",
       "  <div class=\"progress-bar\" role=\"progressbar\" style=\"background-color: red; width: 0%\" aria-valuenow=\"0\" aria-valuemin=\"0\" aria-valuemax=\"100\"></div>\n",
       "</div>\n"
      ]
     },
     "metadata": {},
     "output_type": "display_data"
    },
    {
     "data": {
      "text/html": [
       "<div>\n",
       "  <span style=\"float: left;\">collect at cmd8.sc:1</span>\n",
       "</div>\n"
      ]
     },
     "metadata": {},
     "output_type": "display_data"
    },
    {
     "data": {
      "text/html": [
       "<div class=\"progress\">\n",
       "  <div class=\"progress-bar\" role=\"progressbar\" style=\"background-color: blue; width: 100%; word-wrap: normal; white-space: nowrap; text-align: center; color: white\" aria-valuenow=\"100\" aria-valuemin=\"0\" aria-valuemax=\"100\">\n",
       "    200 / 200\n",
       "  </div>\n",
       "  <div class=\"progress-bar\" role=\"progressbar\" style=\"background-color: red; width: 0%\" aria-valuenow=\"0\" aria-valuemin=\"0\" aria-valuemax=\"100\"></div>\n",
       "</div>\n"
      ]
     },
     "metadata": {},
     "output_type": "display_data"
    },
    {
     "data": {
      "text/html": [
       "\n",
       "      <script type=\"text/javascript\">\n",
       "        require.config({\n",
       "  paths: {\n",
       "    d3: 'https://cdnjs.cloudflare.com/ajax/libs/d3/3.5.17/d3.min',\n",
       "    plotly: 'https://cdn.plot.ly/plotly-1.52.2.min',\n",
       "    jquery: 'https://code.jquery.com/jquery-3.3.1.min'\n",
       "  },\n",
       "\n",
       "  shim: {\n",
       "    plotly: {\n",
       "      deps: ['d3', 'jquery'],\n",
       "      exports: 'plotly'\n",
       "    }\n",
       "  }\n",
       "});\n",
       "        \n",
       "\n",
       "        require(['plotly'], function(Plotly) {\n",
       "          window.Plotly = Plotly;\n",
       "        });\n",
       "      </script>\n",
       "    "
      ]
     },
     "metadata": {},
     "output_type": "display_data"
    },
    {
     "data": {
      "application/vnd.plotly.v1+json": {
       "config": {
        "editable": false,
        "responsive": false,
        "showEditInChartStudio": false
       },
       "data": [
        {
         "type": "bar",
         "x": [
          "gr_37463",
          "gr_76851",
          "gr_11222",
          "gr_65305",
          "gr_8225",
          "gr_38703",
          "gr_18942",
          "gr_62833",
          "gr_79619",
          "gr_19481",
          "gr_11058",
          "gr_77398",
          "gr_14285",
          "gr_67111",
          "gr_9182",
          "gr_51346",
          "gr_64184",
          "gr_12639",
          "gr_20350",
          "gr_60195"
         ],
         "y": [
          71558,
          53090,
          49656,
          46334,
          44342,
          44308,
          42829,
          40545,
          40540,
          40370,
          39888,
          38763,
          38513,
          37648,
          36496,
          36443,
          35938,
          35694,
          33749,
          33428
         ]
        }
       ],
       "layout": {}
      },
      "text/html": [
       "<div class=\"chart\" id=\"plot-ba6009c6-8f9a-464e-96ab-d146b53a099c\"></div>\n",
       "<script>require(['plotly'], function(Plotly) {\n",
       "  (function () {\n",
       "  var data0 = {\"x\":[\"gr_37463\",\"gr_76851\",\"gr_11222\",\"gr_65305\",\"gr_8225\",\"gr_38703\",\"gr_18942\",\"gr_62833\",\"gr_79619\",\"gr_19481\",\"gr_11058\",\"gr_77398\",\"gr_14285\",\"gr_67111\",\"gr_9182\",\"gr_51346\",\"gr_64184\",\"gr_12639\",\"gr_20350\",\"gr_60195\"],\"y\":[71558.0,53090.0,49656.0,46334.0,44342.0,44308.0,42829.0,40545.0,40540.0,40370.0,39888.0,38763.0,38513.0,37648.0,36496.0,36443.0,35938.0,35694.0,33749.0,33428.0],\"type\":\"bar\"};\n",
       "\n",
       "  var data = [data0];\n",
       "  var layout = {};\n",
       " var config = {\"showEditInChartStudio\":false,\"responsive\":false,\"editable\":false};\n",
       "\n",
       "  Plotly.plot('plot-ba6009c6-8f9a-464e-96ab-d146b53a099c', data, layout, config);\n",
       "})();\n",
       "});\n",
       "      </script>\n",
       "           "
      ]
     },
     "metadata": {},
     "output_type": "display_data"
    },
    {
     "data": {
      "text/plain": [
       "\u001b[36mx\u001b[39m: \u001b[32mList\u001b[39m[\u001b[32mString\u001b[39m] = \u001b[33mList\u001b[39m(\n",
       "  \u001b[32m\"37463\"\u001b[39m,\n",
       "  \u001b[32m\"76851\"\u001b[39m,\n",
       "  \u001b[32m\"11222\"\u001b[39m,\n",
       "  \u001b[32m\"65305\"\u001b[39m,\n",
       "  \u001b[32m\"8225\"\u001b[39m,\n",
       "  \u001b[32m\"38703\"\u001b[39m,\n",
       "  \u001b[32m\"18942\"\u001b[39m,\n",
       "  \u001b[32m\"62833\"\u001b[39m,\n",
       "  \u001b[32m\"79619\"\u001b[39m,\n",
       "  \u001b[32m\"19481\"\u001b[39m,\n",
       "  \u001b[32m\"11058\"\u001b[39m,\n",
       "  \u001b[32m\"77398\"\u001b[39m,\n",
       "  \u001b[32m\"14285\"\u001b[39m,\n",
       "  \u001b[32m\"67111\"\u001b[39m,\n",
       "  \u001b[32m\"9182\"\u001b[39m,\n",
       "  \u001b[32m\"51346\"\u001b[39m,\n",
       "  \u001b[32m\"64184\"\u001b[39m,\n",
       "  \u001b[32m\"12639\"\u001b[39m,\n",
       "  \u001b[32m\"20350\"\u001b[39m,\n",
       "  \u001b[32m\"60195\"\u001b[39m\n",
       ")\n",
       "\u001b[36my\u001b[39m: \u001b[32mList\u001b[39m[\u001b[32mInt\u001b[39m] = \u001b[33mList\u001b[39m(\n",
       "  \u001b[32m71558\u001b[39m,\n",
       "  \u001b[32m53090\u001b[39m,\n",
       "  \u001b[32m49656\u001b[39m,\n",
       "  \u001b[32m46334\u001b[39m,\n",
       "  \u001b[32m44342\u001b[39m,\n",
       "  \u001b[32m44308\u001b[39m,\n",
       "  \u001b[32m42829\u001b[39m,\n",
       "  \u001b[32m40545\u001b[39m,\n",
       "  \u001b[32m40540\u001b[39m,\n",
       "  \u001b[32m40370\u001b[39m,\n",
       "  \u001b[32m39888\u001b[39m,\n",
       "  \u001b[32m38763\u001b[39m,\n",
       "  \u001b[32m38513\u001b[39m,\n",
       "  \u001b[32m37648\u001b[39m,\n",
       "  \u001b[32m36496\u001b[39m,\n",
       "  \u001b[32m36443\u001b[39m,\n",
       "  \u001b[32m35938\u001b[39m,\n",
       "  \u001b[32m35694\u001b[39m,\n",
       "  \u001b[32m33749\u001b[39m,\n",
       "  \u001b[32m33428\u001b[39m\n",
       ")\n",
       "\u001b[36mx_\u001b[39m: \u001b[32mSeq\u001b[39m[\u001b[32mString\u001b[39m] = \u001b[33mList\u001b[39m(\n",
       "  \u001b[32m\"gr_37463\"\u001b[39m,\n",
       "  \u001b[32m\"gr_76851\"\u001b[39m,\n",
       "  \u001b[32m\"gr_11222\"\u001b[39m,\n",
       "  \u001b[32m\"gr_65305\"\u001b[39m,\n",
       "  \u001b[32m\"gr_8225\"\u001b[39m,\n",
       "  \u001b[32m\"gr_38703\"\u001b[39m,\n",
       "  \u001b[32m\"gr_18942\"\u001b[39m,\n",
       "  \u001b[32m\"gr_62833\"\u001b[39m,\n",
       "  \u001b[32m\"gr_79619\"\u001b[39m,\n",
       "  \u001b[32m\"gr_19481\"\u001b[39m,\n",
       "  \u001b[32m\"gr_11058\"\u001b[39m,\n",
       "  \u001b[32m\"gr_77398\"\u001b[39m,\n",
       "  \u001b[32m\"gr_14285\"\u001b[39m,\n",
       "  \u001b[32m\"gr_67111\"\u001b[39m,\n",
       "  \u001b[32m\"gr_9182\"\u001b[39m,\n",
       "  \u001b[32m\"gr_51346\"\u001b[39m,\n",
       "  \u001b[32m\"gr_64184\"\u001b[39m,\n",
       "  \u001b[32m\"gr_12639\"\u001b[39m,\n",
       "  \u001b[32m\"gr_20350\"\u001b[39m,\n",
       "  \u001b[32m\"gr_60195\"\u001b[39m\n",
       ")\n",
       "\u001b[36mres8_2\u001b[39m: \u001b[32mString\u001b[39m = \u001b[32m\"plot-ba6009c6-8f9a-464e-96ab-d146b53a099c\"\u001b[39m"
      ]
     },
     "execution_count": 9,
     "metadata": {},
     "output_type": "execute_result"
    }
   ],
   "source": [
    "val (x, y) = top_groups.collect.map(r=>(r(0).toString, r(1).toString.toInt)).toList.unzip\n",
    "val x_ = append(\"gr_\", x)\n",
    "Bar(x_, y).plot()"
   ]
  },
  {
   "cell_type": "markdown",
   "metadata": {},
   "source": [
    "### 2. Постройте гистограммы популярности/активности групп на портале по времени суток"
   ]
  },
  {
   "cell_type": "code",
   "execution_count": 10,
   "metadata": {},
   "outputs": [
    {
     "data": {
      "text/html": [
       "<div>\n",
       "  <span style=\"float: left;\">show at cmd9.sc:7</span>\n",
       "</div>\n"
      ]
     },
     "metadata": {},
     "output_type": "display_data"
    },
    {
     "data": {
      "text/html": [
       "<div class=\"progress\">\n",
       "  <div class=\"progress-bar\" role=\"progressbar\" style=\"background-color: blue; width: 100%; word-wrap: normal; white-space: nowrap; text-align: center; color: white\" aria-valuenow=\"100\" aria-valuemin=\"0\" aria-valuemax=\"100\">\n",
       "    28 / 28\n",
       "  </div>\n",
       "  <div class=\"progress-bar\" role=\"progressbar\" style=\"background-color: red; width: 0%\" aria-valuenow=\"0\" aria-valuemin=\"0\" aria-valuemax=\"100\"></div>\n",
       "</div>\n"
      ]
     },
     "metadata": {},
     "output_type": "display_data"
    },
    {
     "data": {
      "text/html": [
       "<div>\n",
       "  <span style=\"float: left;\">show at cmd9.sc:7</span>\n",
       "</div>\n"
      ]
     },
     "metadata": {},
     "output_type": "display_data"
    },
    {
     "data": {
      "text/html": [
       "<div class=\"progress\">\n",
       "  <div class=\"progress-bar\" role=\"progressbar\" style=\"background-color: blue; width: 100%; word-wrap: normal; white-space: nowrap; text-align: center; color: white\" aria-valuenow=\"100\" aria-valuemin=\"0\" aria-valuemax=\"100\">\n",
       "    200 / 200\n",
       "  </div>\n",
       "  <div class=\"progress-bar\" role=\"progressbar\" style=\"background-color: red; width: 0%\" aria-valuenow=\"0\" aria-valuemin=\"0\" aria-valuemax=\"100\"></div>\n",
       "</div>\n"
      ]
     },
     "metadata": {},
     "output_type": "display_data"
    },
    {
     "data": {
      "text/html": [
       "<div>\n",
       "  <span style=\"float: left;\">show at cmd9.sc:7</span>\n",
       "</div>\n"
      ]
     },
     "metadata": {},
     "output_type": "display_data"
    },
    {
     "data": {
      "text/html": [
       "<div class=\"progress\">\n",
       "  <div class=\"progress-bar\" role=\"progressbar\" style=\"background-color: blue; width: 100%; word-wrap: normal; white-space: nowrap; text-align: center; color: white\" aria-valuenow=\"100\" aria-valuemin=\"0\" aria-valuemax=\"100\">\n",
       "    200 / 200\n",
       "  </div>\n",
       "  <div class=\"progress-bar\" role=\"progressbar\" style=\"background-color: red; width: 0%\" aria-valuenow=\"0\" aria-valuemin=\"0\" aria-valuemax=\"100\"></div>\n",
       "</div>\n"
      ]
     },
     "metadata": {},
     "output_type": "display_data"
    },
    {
     "name": "stdout",
     "output_type": "stream",
     "text": [
      "+----------+-------------+------+-------+------+\n",
      "|      date|users actions| users|objects|groups|\n",
      "+----------+-------------+------+-------+------+\n",
      "|2018-02-01|       360130|286725| 100210| 28841|\n",
      "|2018-02-02|       363326|289200| 100812| 28937|\n",
      "|2018-02-03|       380747|300209| 102309| 29060|\n",
      "|2018-02-04|       414891|325662| 106331| 29542|\n",
      "|2018-02-05|       392257|310204| 103678| 29474|\n",
      "|2018-02-06|       390813|309461| 103239| 29372|\n",
      "|2018-02-07|       385008|305337| 102068| 29262|\n",
      "|2018-02-08|       384778|304819| 101041| 29157|\n",
      "|2018-02-09|       376668|298696| 100087| 29023|\n",
      "|2018-02-10|       381604|301118| 100760| 28671|\n",
      "|2018-02-12|       391852|309730| 101912| 29054|\n",
      "|2018-02-13|       377683|299597| 100743| 28988|\n",
      "|2018-02-14|       383972|304451| 101932| 29314|\n",
      "|2018-02-15|       387597|307275| 101866| 29240|\n",
      "|2018-02-16|       378148|299275| 101553| 29185|\n",
      "|2018-02-17|       198311|175138|  58444| 21782|\n",
      "|2018-02-18|       303831|247277|  82124| 25990|\n",
      "|2018-02-19|       342358|273597|  91203| 27863|\n",
      "|2018-02-20|       386330|305658| 103277| 29520|\n",
      "|2018-02-21|       380604|301647| 101972| 29289|\n",
      "+----------+-------------+------+-------+------+\n",
      "only showing top 20 rows\n",
      "\n"
     ]
    },
    {
     "data": {
      "text/plain": [
       "\u001b[36mhist_activity_time\u001b[39m: \u001b[32mDataset\u001b[39m[\u001b[32mRow\u001b[39m] = [date: date, users actions: bigint ... 3 more fields]"
      ]
     },
     "execution_count": 10,
     "metadata": {},
     "output_type": "execute_result"
    }
   ],
   "source": [
    "val hist_activity_time = train.groupBy($\"date\").agg(\n",
    "    functions.count($\"instanceId_userId\").as(\"users actions\"),\n",
    "    functions.countDistinct($\"instanceId_userId\").as(\"users\"),\n",
    "    functions.countDistinct($\"instanceId_objectId\").as(\"objects\"),\n",
    "    functions.countDistinct($\"metadata_ownerId\").as(\"groups\"))\n",
    ".orderBy(\"date\")\n",
    "hist_activity_time.show"
   ]
  },
  {
   "cell_type": "code",
   "execution_count": 11,
   "metadata": {},
   "outputs": [
    {
     "data": {
      "text/html": [
       "<div>\n",
       "  <span style=\"float: left;\">collect at cmd10.sc:1</span>\n",
       "</div>\n"
      ]
     },
     "metadata": {},
     "output_type": "display_data"
    },
    {
     "data": {
      "text/html": [
       "<div class=\"progress\">\n",
       "  <div class=\"progress-bar\" role=\"progressbar\" style=\"background-color: blue; width: 100%; word-wrap: normal; white-space: nowrap; text-align: center; color: white\" aria-valuenow=\"100\" aria-valuemin=\"0\" aria-valuemax=\"100\">\n",
       "    28 / 28\n",
       "  </div>\n",
       "  <div class=\"progress-bar\" role=\"progressbar\" style=\"background-color: red; width: 0%\" aria-valuenow=\"0\" aria-valuemin=\"0\" aria-valuemax=\"100\"></div>\n",
       "</div>\n"
      ]
     },
     "metadata": {},
     "output_type": "display_data"
    },
    {
     "data": {
      "text/html": [
       "<div>\n",
       "  <span style=\"float: left;\">collect at cmd10.sc:1</span>\n",
       "</div>\n"
      ]
     },
     "metadata": {},
     "output_type": "display_data"
    },
    {
     "data": {
      "text/html": [
       "<div class=\"progress\">\n",
       "  <div class=\"progress-bar\" role=\"progressbar\" style=\"background-color: blue; width: 100%; word-wrap: normal; white-space: nowrap; text-align: center; color: white\" aria-valuenow=\"100\" aria-valuemin=\"0\" aria-valuemax=\"100\">\n",
       "    200 / 200\n",
       "  </div>\n",
       "  <div class=\"progress-bar\" role=\"progressbar\" style=\"background-color: red; width: 0%\" aria-valuenow=\"0\" aria-valuemin=\"0\" aria-valuemax=\"100\"></div>\n",
       "</div>\n"
      ]
     },
     "metadata": {},
     "output_type": "display_data"
    },
    {
     "data": {
      "text/html": [
       "<div>\n",
       "  <span style=\"float: left;\">collect at cmd10.sc:1</span>\n",
       "</div>\n"
      ]
     },
     "metadata": {},
     "output_type": "display_data"
    },
    {
     "data": {
      "text/html": [
       "<div class=\"progress\">\n",
       "  <div class=\"progress-bar\" role=\"progressbar\" style=\"background-color: blue; width: 100%; word-wrap: normal; white-space: nowrap; text-align: center; color: white\" aria-valuenow=\"100\" aria-valuemin=\"0\" aria-valuemax=\"100\">\n",
       "    200 / 200\n",
       "  </div>\n",
       "  <div class=\"progress-bar\" role=\"progressbar\" style=\"background-color: red; width: 0%\" aria-valuenow=\"0\" aria-valuemin=\"0\" aria-valuemax=\"100\"></div>\n",
       "</div>\n"
      ]
     },
     "metadata": {},
     "output_type": "display_data"
    },
    {
     "data": {
      "text/html": [
       "<div>\n",
       "  <span style=\"float: left;\">collect at cmd10.sc:1</span>\n",
       "</div>\n"
      ]
     },
     "metadata": {},
     "output_type": "display_data"
    },
    {
     "data": {
      "text/html": [
       "<div class=\"progress\">\n",
       "  <div class=\"progress-bar\" role=\"progressbar\" style=\"background-color: blue; width: 100%; word-wrap: normal; white-space: nowrap; text-align: center; color: white\" aria-valuenow=\"100\" aria-valuemin=\"0\" aria-valuemax=\"100\">\n",
       "    200 / 200\n",
       "  </div>\n",
       "  <div class=\"progress-bar\" role=\"progressbar\" style=\"background-color: red; width: 0%\" aria-valuenow=\"0\" aria-valuemin=\"0\" aria-valuemax=\"100\"></div>\n",
       "</div>\n"
      ]
     },
     "metadata": {},
     "output_type": "display_data"
    },
    {
     "data": {
      "text/html": [
       "<div>\n",
       "  <span style=\"float: left;\">collect at cmd10.sc:1</span>\n",
       "</div>\n"
      ]
     },
     "metadata": {},
     "output_type": "display_data"
    },
    {
     "data": {
      "text/html": [
       "<div class=\"progress\">\n",
       "  <div class=\"progress-bar\" role=\"progressbar\" style=\"background-color: blue; width: 100%; word-wrap: normal; white-space: nowrap; text-align: center; color: white\" aria-valuenow=\"100\" aria-valuemin=\"0\" aria-valuemax=\"100\">\n",
       "    48 / 48\n",
       "  </div>\n",
       "  <div class=\"progress-bar\" role=\"progressbar\" style=\"background-color: red; width: 0%\" aria-valuenow=\"0\" aria-valuemin=\"0\" aria-valuemax=\"100\"></div>\n",
       "</div>\n"
      ]
     },
     "metadata": {},
     "output_type": "display_data"
    },
    {
     "data": {
      "text/plain": [
       "\u001b[36mdates\u001b[39m: \u001b[32mList\u001b[39m[\u001b[32mString\u001b[39m] = \u001b[33mList\u001b[39m(\n",
       "  \u001b[32m\"2018-02-01\"\u001b[39m,\n",
       "  \u001b[32m\"2018-02-02\"\u001b[39m,\n",
       "  \u001b[32m\"2018-02-03\"\u001b[39m,\n",
       "  \u001b[32m\"2018-02-04\"\u001b[39m,\n",
       "  \u001b[32m\"2018-02-05\"\u001b[39m,\n",
       "  \u001b[32m\"2018-02-06\"\u001b[39m,\n",
       "  \u001b[32m\"2018-02-07\"\u001b[39m,\n",
       "  \u001b[32m\"2018-02-08\"\u001b[39m,\n",
       "  \u001b[32m\"2018-02-09\"\u001b[39m,\n",
       "  \u001b[32m\"2018-02-10\"\u001b[39m,\n",
       "  \u001b[32m\"2018-02-12\"\u001b[39m,\n",
       "  \u001b[32m\"2018-02-13\"\u001b[39m,\n",
       "  \u001b[32m\"2018-02-14\"\u001b[39m,\n",
       "  \u001b[32m\"2018-02-15\"\u001b[39m,\n",
       "  \u001b[32m\"2018-02-16\"\u001b[39m,\n",
       "  \u001b[32m\"2018-02-17\"\u001b[39m,\n",
       "  \u001b[32m\"2018-02-18\"\u001b[39m,\n",
       "  \u001b[32m\"2018-02-19\"\u001b[39m,\n",
       "  \u001b[32m\"2018-02-20\"\u001b[39m,\n",
       "  \u001b[32m\"2018-02-21\"\u001b[39m,\n",
       "  \u001b[32m\"2018-02-22\"\u001b[39m,\n",
       "  \u001b[32m\"2018-02-23\"\u001b[39m,\n",
       "  \u001b[32m\"2018-02-24\"\u001b[39m,\n",
       "  \u001b[32m\"2018-02-25\"\u001b[39m,\n",
       "  \u001b[32m\"2018-02-26\"\u001b[39m,\n",
       "  \u001b[32m\"2018-02-27\"\u001b[39m,\n",
       "  \u001b[32m\"2018-02-28\"\u001b[39m,\n",
       "  \u001b[32m\"2018-03-01\"\u001b[39m,\n",
       "  \u001b[32m\"2018-03-02\"\u001b[39m,\n",
       "  \u001b[32m\"2018-03-03\"\u001b[39m,\n",
       "  \u001b[32m\"2018-03-04\"\u001b[39m,\n",
       "  \u001b[32m\"2018-03-05\"\u001b[39m,\n",
       "  \u001b[32m\"2018-03-06\"\u001b[39m,\n",
       "  \u001b[32m\"2018-03-07\"\u001b[39m,\n",
       "  \u001b[32m\"2018-03-08\"\u001b[39m,\n",
       "  \u001b[32m\"2018-03-09\"\u001b[39m,\n",
       "  \u001b[32m\"2018-03-10\"\u001b[39m,\n",
       "  \u001b[32m\"2018-03-11\"\u001b[39m,\n",
       "..."
      ]
     },
     "execution_count": 11,
     "metadata": {},
     "output_type": "execute_result"
    }
   ],
   "source": [
    "val dates = hist_activity_time.collect.map(r=>(r(0).toString)).toList"
   ]
  },
  {
   "cell_type": "code",
   "execution_count": 12,
   "metadata": {},
   "outputs": [
    {
     "data": {
      "text/html": [
       "<div>\n",
       "  <span style=\"float: left;\">collect at cmd11.sc:1</span>\n",
       "</div>\n"
      ]
     },
     "metadata": {},
     "output_type": "display_data"
    },
    {
     "data": {
      "text/html": [
       "<div class=\"progress\">\n",
       "  <div class=\"progress-bar\" role=\"progressbar\" style=\"background-color: blue; width: 100%; word-wrap: normal; white-space: nowrap; text-align: center; color: white\" aria-valuenow=\"100\" aria-valuemin=\"0\" aria-valuemax=\"100\">\n",
       "    48 / 48\n",
       "  </div>\n",
       "  <div class=\"progress-bar\" role=\"progressbar\" style=\"background-color: red; width: 0%\" aria-valuenow=\"0\" aria-valuemin=\"0\" aria-valuemax=\"100\"></div>\n",
       "</div>\n"
      ]
     },
     "metadata": {},
     "output_type": "display_data"
    },
    {
     "data": {
      "text/plain": [
       "\u001b[36musers_acts\u001b[39m: \u001b[32mList\u001b[39m[\u001b[32mInt\u001b[39m] = \u001b[33mList\u001b[39m(\n",
       "  \u001b[32m360130\u001b[39m,\n",
       "  \u001b[32m363326\u001b[39m,\n",
       "  \u001b[32m380747\u001b[39m,\n",
       "  \u001b[32m414891\u001b[39m,\n",
       "  \u001b[32m392257\u001b[39m,\n",
       "  \u001b[32m390813\u001b[39m,\n",
       "  \u001b[32m385008\u001b[39m,\n",
       "  \u001b[32m384778\u001b[39m,\n",
       "  \u001b[32m376668\u001b[39m,\n",
       "  \u001b[32m381604\u001b[39m,\n",
       "  \u001b[32m391852\u001b[39m,\n",
       "  \u001b[32m377683\u001b[39m,\n",
       "  \u001b[32m383972\u001b[39m,\n",
       "  \u001b[32m387597\u001b[39m,\n",
       "  \u001b[32m378148\u001b[39m,\n",
       "  \u001b[32m198311\u001b[39m,\n",
       "  \u001b[32m303831\u001b[39m,\n",
       "  \u001b[32m342358\u001b[39m,\n",
       "  \u001b[32m386330\u001b[39m,\n",
       "  \u001b[32m380604\u001b[39m,\n",
       "  \u001b[32m386597\u001b[39m,\n",
       "  \u001b[32m381527\u001b[39m,\n",
       "  \u001b[32m393870\u001b[39m,\n",
       "  \u001b[32m418427\u001b[39m,\n",
       "  \u001b[32m376459\u001b[39m,\n",
       "  \u001b[32m370973\u001b[39m,\n",
       "  \u001b[32m369587\u001b[39m,\n",
       "  \u001b[32m386759\u001b[39m,\n",
       "  \u001b[32m393588\u001b[39m,\n",
       "  \u001b[32m397985\u001b[39m,\n",
       "  \u001b[32m425815\u001b[39m,\n",
       "  \u001b[32m394656\u001b[39m,\n",
       "  \u001b[32m388820\u001b[39m,\n",
       "  \u001b[32m384826\u001b[39m,\n",
       "  \u001b[32m379427\u001b[39m,\n",
       "  \u001b[32m398607\u001b[39m,\n",
       "  \u001b[32m404546\u001b[39m,\n",
       "  \u001b[32m420117\u001b[39m,\n",
       "..."
      ]
     },
     "execution_count": 12,
     "metadata": {},
     "output_type": "execute_result"
    }
   ],
   "source": [
    "val users_acts = hist_activity_time.collect.map(r=>(r(1).toString.toInt)).toList"
   ]
  },
  {
   "cell_type": "code",
   "execution_count": 13,
   "metadata": {},
   "outputs": [
    {
     "data": {
      "text/html": [
       "<div>\n",
       "  <span style=\"float: left;\">collect at cmd12.sc:1</span>\n",
       "</div>\n"
      ]
     },
     "metadata": {},
     "output_type": "display_data"
    },
    {
     "data": {
      "text/html": [
       "<div class=\"progress\">\n",
       "  <div class=\"progress-bar\" role=\"progressbar\" style=\"background-color: blue; width: 100%; word-wrap: normal; white-space: nowrap; text-align: center; color: white\" aria-valuenow=\"100\" aria-valuemin=\"0\" aria-valuemax=\"100\">\n",
       "    48 / 48\n",
       "  </div>\n",
       "  <div class=\"progress-bar\" role=\"progressbar\" style=\"background-color: red; width: 0%\" aria-valuenow=\"0\" aria-valuemin=\"0\" aria-valuemax=\"100\"></div>\n",
       "</div>\n"
      ]
     },
     "metadata": {},
     "output_type": "display_data"
    },
    {
     "data": {
      "text/plain": [
       "\u001b[36musers\u001b[39m: \u001b[32mList\u001b[39m[\u001b[32mInt\u001b[39m] = \u001b[33mList\u001b[39m(\n",
       "  \u001b[32m286725\u001b[39m,\n",
       "  \u001b[32m289200\u001b[39m,\n",
       "  \u001b[32m300209\u001b[39m,\n",
       "  \u001b[32m325662\u001b[39m,\n",
       "  \u001b[32m310204\u001b[39m,\n",
       "  \u001b[32m309461\u001b[39m,\n",
       "  \u001b[32m305337\u001b[39m,\n",
       "  \u001b[32m304819\u001b[39m,\n",
       "  \u001b[32m298696\u001b[39m,\n",
       "  \u001b[32m301118\u001b[39m,\n",
       "  \u001b[32m309730\u001b[39m,\n",
       "  \u001b[32m299597\u001b[39m,\n",
       "  \u001b[32m304451\u001b[39m,\n",
       "  \u001b[32m307275\u001b[39m,\n",
       "  \u001b[32m299275\u001b[39m,\n",
       "  \u001b[32m175138\u001b[39m,\n",
       "  \u001b[32m247277\u001b[39m,\n",
       "  \u001b[32m273597\u001b[39m,\n",
       "  \u001b[32m305658\u001b[39m,\n",
       "  \u001b[32m301647\u001b[39m,\n",
       "  \u001b[32m305541\u001b[39m,\n",
       "  \u001b[32m301067\u001b[39m,\n",
       "  \u001b[32m308612\u001b[39m,\n",
       "  \u001b[32m327091\u001b[39m,\n",
       "  \u001b[32m297109\u001b[39m,\n",
       "  \u001b[32m292083\u001b[39m,\n",
       "  \u001b[32m290526\u001b[39m,\n",
       "  \u001b[32m303622\u001b[39m,\n",
       "  \u001b[32m308683\u001b[39m,\n",
       "  \u001b[32m310871\u001b[39m,\n",
       "  \u001b[32m330120\u001b[39m,\n",
       "  \u001b[32m309515\u001b[39m,\n",
       "  \u001b[32m305356\u001b[39m,\n",
       "  \u001b[32m302176\u001b[39m,\n",
       "  \u001b[32m296844\u001b[39m,\n",
       "  \u001b[32m312278\u001b[39m,\n",
       "  \u001b[32m315161\u001b[39m,\n",
       "  \u001b[32m327126\u001b[39m,\n",
       "..."
      ]
     },
     "execution_count": 13,
     "metadata": {},
     "output_type": "execute_result"
    }
   ],
   "source": [
    "val users = hist_activity_time.collect.map(r=>(r(2).toString.toInt)).toList"
   ]
  },
  {
   "cell_type": "code",
   "execution_count": 14,
   "metadata": {},
   "outputs": [
    {
     "data": {
      "text/html": [
       "<div>\n",
       "  <span style=\"float: left;\">collect at cmd13.sc:1</span>\n",
       "</div>\n"
      ]
     },
     "metadata": {},
     "output_type": "display_data"
    },
    {
     "data": {
      "text/html": [
       "<div class=\"progress\">\n",
       "  <div class=\"progress-bar\" role=\"progressbar\" style=\"background-color: blue; width: 100%; word-wrap: normal; white-space: nowrap; text-align: center; color: white\" aria-valuenow=\"100\" aria-valuemin=\"0\" aria-valuemax=\"100\">\n",
       "    48 / 48\n",
       "  </div>\n",
       "  <div class=\"progress-bar\" role=\"progressbar\" style=\"background-color: red; width: 0%\" aria-valuenow=\"0\" aria-valuemin=\"0\" aria-valuemax=\"100\"></div>\n",
       "</div>\n"
      ]
     },
     "metadata": {},
     "output_type": "display_data"
    },
    {
     "data": {
      "text/plain": [
       "\u001b[36mgroups\u001b[39m: \u001b[32mList\u001b[39m[\u001b[32mInt\u001b[39m] = \u001b[33mList\u001b[39m(\n",
       "  \u001b[32m28841\u001b[39m,\n",
       "  \u001b[32m28937\u001b[39m,\n",
       "  \u001b[32m29060\u001b[39m,\n",
       "  \u001b[32m29542\u001b[39m,\n",
       "  \u001b[32m29474\u001b[39m,\n",
       "  \u001b[32m29372\u001b[39m,\n",
       "  \u001b[32m29262\u001b[39m,\n",
       "  \u001b[32m29157\u001b[39m,\n",
       "  \u001b[32m29023\u001b[39m,\n",
       "  \u001b[32m28671\u001b[39m,\n",
       "  \u001b[32m29054\u001b[39m,\n",
       "  \u001b[32m28988\u001b[39m,\n",
       "  \u001b[32m29314\u001b[39m,\n",
       "  \u001b[32m29240\u001b[39m,\n",
       "  \u001b[32m29185\u001b[39m,\n",
       "  \u001b[32m21782\u001b[39m,\n",
       "  \u001b[32m25990\u001b[39m,\n",
       "  \u001b[32m27863\u001b[39m,\n",
       "  \u001b[32m29520\u001b[39m,\n",
       "  \u001b[32m29289\u001b[39m,\n",
       "  \u001b[32m29567\u001b[39m,\n",
       "  \u001b[32m29519\u001b[39m,\n",
       "  \u001b[32m29619\u001b[39m,\n",
       "  \u001b[32m30204\u001b[39m,\n",
       "  \u001b[32m29454\u001b[39m,\n",
       "  \u001b[32m29803\u001b[39m,\n",
       "  \u001b[32m29561\u001b[39m,\n",
       "  \u001b[32m29989\u001b[39m,\n",
       "  \u001b[32m30089\u001b[39m,\n",
       "  \u001b[32m30153\u001b[39m,\n",
       "  \u001b[32m30625\u001b[39m,\n",
       "  \u001b[32m30122\u001b[39m,\n",
       "  \u001b[32m30068\u001b[39m,\n",
       "  \u001b[32m29980\u001b[39m,\n",
       "  \u001b[32m29642\u001b[39m,\n",
       "  \u001b[32m29878\u001b[39m,\n",
       "  \u001b[32m29877\u001b[39m,\n",
       "  \u001b[32m30210\u001b[39m,\n",
       "..."
      ]
     },
     "execution_count": 14,
     "metadata": {},
     "output_type": "execute_result"
    }
   ],
   "source": [
    "val groups = hist_activity_time.collect.map(r=>(r(4).toString.toInt)).toList"
   ]
  },
  {
   "cell_type": "code",
   "execution_count": 18,
   "metadata": {},
   "outputs": [
    {
     "data": {
      "application/vnd.plotly.v1+json": {
       "config": {
        "editable": false,
        "responsive": false,
        "showEditInChartStudio": false
       },
       "data": [
        {
         "name": "Distincts users",
         "type": "scatter",
         "x": [
          "2018-02-01",
          "2018-02-02",
          "2018-02-03",
          "2018-02-04",
          "2018-02-05",
          "2018-02-06",
          "2018-02-07",
          "2018-02-08",
          "2018-02-09",
          "2018-02-10",
          "2018-02-12",
          "2018-02-13",
          "2018-02-14",
          "2018-02-15",
          "2018-02-16",
          "2018-02-17",
          "2018-02-18",
          "2018-02-19",
          "2018-02-20",
          "2018-02-21",
          "2018-02-22",
          "2018-02-23",
          "2018-02-24",
          "2018-02-25",
          "2018-02-26",
          "2018-02-27",
          "2018-02-28",
          "2018-03-01",
          "2018-03-02",
          "2018-03-03",
          "2018-03-04",
          "2018-03-05",
          "2018-03-06",
          "2018-03-07",
          "2018-03-08",
          "2018-03-09",
          "2018-03-10",
          "2018-03-11",
          "2018-03-12",
          "2018-03-13",
          "2018-03-14",
          "2018-03-15",
          "2018-03-16",
          "2018-03-17",
          "2018-03-18",
          "2018-03-19",
          "2018-03-20",
          "2018-03-21"
         ],
         "y": [
          286725,
          289200,
          300209,
          325662,
          310204,
          309461,
          305337,
          304819,
          298696,
          301118,
          309730,
          299597,
          304451,
          307275,
          299275,
          175138,
          247277,
          273597,
          305658,
          301647,
          305541,
          301067,
          308612,
          327091,
          297109,
          292083,
          290526,
          303622,
          308683,
          310871,
          330120,
          309515,
          305356,
          302176,
          296844,
          312278,
          315161,
          327126,
          306892,
          303354,
          305319,
          299386,
          292648,
          303657,
          320645,
          309770,
          300164,
          290526
         ]
        },
        {
         "name": "Users actions",
         "type": "scatter",
         "x": [
          "2018-02-01",
          "2018-02-02",
          "2018-02-03",
          "2018-02-04",
          "2018-02-05",
          "2018-02-06",
          "2018-02-07",
          "2018-02-08",
          "2018-02-09",
          "2018-02-10",
          "2018-02-12",
          "2018-02-13",
          "2018-02-14",
          "2018-02-15",
          "2018-02-16",
          "2018-02-17",
          "2018-02-18",
          "2018-02-19",
          "2018-02-20",
          "2018-02-21",
          "2018-02-22",
          "2018-02-23",
          "2018-02-24",
          "2018-02-25",
          "2018-02-26",
          "2018-02-27",
          "2018-02-28",
          "2018-03-01",
          "2018-03-02",
          "2018-03-03",
          "2018-03-04",
          "2018-03-05",
          "2018-03-06",
          "2018-03-07",
          "2018-03-08",
          "2018-03-09",
          "2018-03-10",
          "2018-03-11",
          "2018-03-12",
          "2018-03-13",
          "2018-03-14",
          "2018-03-15",
          "2018-03-16",
          "2018-03-17",
          "2018-03-18",
          "2018-03-19",
          "2018-03-20",
          "2018-03-21"
         ],
         "y": [
          360130,
          363326,
          380747,
          414891,
          392257,
          390813,
          385008,
          384778,
          376668,
          381604,
          391852,
          377683,
          383972,
          387597,
          378148,
          198311,
          303831,
          342358,
          386330,
          380604,
          386597,
          381527,
          393870,
          418427,
          376459,
          370973,
          369587,
          386759,
          393588,
          397985,
          425815,
          394656,
          388820,
          384826,
          379427,
          398607,
          404546,
          420117,
          389476,
          384590,
          388295,
          380100,
          369708,
          387653,
          411889,
          394873,
          380169,
          366328
         ]
        },
        {
         "name": "Groups actions",
         "type": "scatter",
         "x": [
          "2018-02-01",
          "2018-02-02",
          "2018-02-03",
          "2018-02-04",
          "2018-02-05",
          "2018-02-06",
          "2018-02-07",
          "2018-02-08",
          "2018-02-09",
          "2018-02-10",
          "2018-02-12",
          "2018-02-13",
          "2018-02-14",
          "2018-02-15",
          "2018-02-16",
          "2018-02-17",
          "2018-02-18",
          "2018-02-19",
          "2018-02-20",
          "2018-02-21",
          "2018-02-22",
          "2018-02-23",
          "2018-02-24",
          "2018-02-25",
          "2018-02-26",
          "2018-02-27",
          "2018-02-28",
          "2018-03-01",
          "2018-03-02",
          "2018-03-03",
          "2018-03-04",
          "2018-03-05",
          "2018-03-06",
          "2018-03-07",
          "2018-03-08",
          "2018-03-09",
          "2018-03-10",
          "2018-03-11",
          "2018-03-12",
          "2018-03-13",
          "2018-03-14",
          "2018-03-15",
          "2018-03-16",
          "2018-03-17",
          "2018-03-18",
          "2018-03-19",
          "2018-03-20",
          "2018-03-21"
         ],
         "y": [
          28841,
          28937,
          29060,
          29542,
          29474,
          29372,
          29262,
          29157,
          29023,
          28671,
          29054,
          28988,
          29314,
          29240,
          29185,
          21782,
          25990,
          27863,
          29520,
          29289,
          29567,
          29519,
          29619,
          30204,
          29454,
          29803,
          29561,
          29989,
          30089,
          30153,
          30625,
          30122,
          30068,
          29980,
          29642,
          29878,
          29877,
          30210,
          29899,
          30095,
          30077,
          29921,
          29657,
          29993,
          30421,
          30230,
          30119,
          29862
         ]
        }
       ],
       "layout": {
        "title": "Activity"
       }
      },
      "text/html": [
       "<div class=\"chart\" id=\"plot-8b188211-cfdb-4588-8bdb-acfea37d8ba0\"></div>\n",
       "<script>require(['plotly'], function(Plotly) {\n",
       "  (function () {\n",
       "  var data0 = {\"x\":[\"2018-02-01\",\"2018-02-02\",\"2018-02-03\",\"2018-02-04\",\"2018-02-05\",\"2018-02-06\",\"2018-02-07\",\"2018-02-08\",\"2018-02-09\",\"2018-02-10\",\"2018-02-12\",\"2018-02-13\",\"2018-02-14\",\"2018-02-15\",\"2018-02-16\",\"2018-02-17\",\"2018-02-18\",\"2018-02-19\",\"2018-02-20\",\"2018-02-21\",\"2018-02-22\",\"2018-02-23\",\"2018-02-24\",\"2018-02-25\",\"2018-02-26\",\"2018-02-27\",\"2018-02-28\",\"2018-03-01\",\"2018-03-02\",\"2018-03-03\",\"2018-03-04\",\"2018-03-05\",\"2018-03-06\",\"2018-03-07\",\"2018-03-08\",\"2018-03-09\",\"2018-03-10\",\"2018-03-11\",\"2018-03-12\",\"2018-03-13\",\"2018-03-14\",\"2018-03-15\",\"2018-03-16\",\"2018-03-17\",\"2018-03-18\",\"2018-03-19\",\"2018-03-20\",\"2018-03-21\"],\"name\":\"Distincts users\",\"y\":[286725.0,289200.0,300209.0,325662.0,310204.0,309461.0,305337.0,304819.0,298696.0,301118.0,309730.0,299597.0,304451.0,307275.0,299275.0,175138.0,247277.0,273597.0,305658.0,301647.0,305541.0,301067.0,308612.0,327091.0,297109.0,292083.0,290526.0,303622.0,308683.0,310871.0,330120.0,309515.0,305356.0,302176.0,296844.0,312278.0,315161.0,327126.0,306892.0,303354.0,305319.0,299386.0,292648.0,303657.0,320645.0,309770.0,300164.0,290526.0],\"type\":\"scatter\"};\n",
       "  var data1 = {\"x\":[\"2018-02-01\",\"2018-02-02\",\"2018-02-03\",\"2018-02-04\",\"2018-02-05\",\"2018-02-06\",\"2018-02-07\",\"2018-02-08\",\"2018-02-09\",\"2018-02-10\",\"2018-02-12\",\"2018-02-13\",\"2018-02-14\",\"2018-02-15\",\"2018-02-16\",\"2018-02-17\",\"2018-02-18\",\"2018-02-19\",\"2018-02-20\",\"2018-02-21\",\"2018-02-22\",\"2018-02-23\",\"2018-02-24\",\"2018-02-25\",\"2018-02-26\",\"2018-02-27\",\"2018-02-28\",\"2018-03-01\",\"2018-03-02\",\"2018-03-03\",\"2018-03-04\",\"2018-03-05\",\"2018-03-06\",\"2018-03-07\",\"2018-03-08\",\"2018-03-09\",\"2018-03-10\",\"2018-03-11\",\"2018-03-12\",\"2018-03-13\",\"2018-03-14\",\"2018-03-15\",\"2018-03-16\",\"2018-03-17\",\"2018-03-18\",\"2018-03-19\",\"2018-03-20\",\"2018-03-21\"],\"name\":\"Users actions\",\"y\":[360130.0,363326.0,380747.0,414891.0,392257.0,390813.0,385008.0,384778.0,376668.0,381604.0,391852.0,377683.0,383972.0,387597.0,378148.0,198311.0,303831.0,342358.0,386330.0,380604.0,386597.0,381527.0,393870.0,418427.0,376459.0,370973.0,369587.0,386759.0,393588.0,397985.0,425815.0,394656.0,388820.0,384826.0,379427.0,398607.0,404546.0,420117.0,389476.0,384590.0,388295.0,380100.0,369708.0,387653.0,411889.0,394873.0,380169.0,366328.0],\"type\":\"scatter\"};\n",
       "  var data2 = {\"x\":[\"2018-02-01\",\"2018-02-02\",\"2018-02-03\",\"2018-02-04\",\"2018-02-05\",\"2018-02-06\",\"2018-02-07\",\"2018-02-08\",\"2018-02-09\",\"2018-02-10\",\"2018-02-12\",\"2018-02-13\",\"2018-02-14\",\"2018-02-15\",\"2018-02-16\",\"2018-02-17\",\"2018-02-18\",\"2018-02-19\",\"2018-02-20\",\"2018-02-21\",\"2018-02-22\",\"2018-02-23\",\"2018-02-24\",\"2018-02-25\",\"2018-02-26\",\"2018-02-27\",\"2018-02-28\",\"2018-03-01\",\"2018-03-02\",\"2018-03-03\",\"2018-03-04\",\"2018-03-05\",\"2018-03-06\",\"2018-03-07\",\"2018-03-08\",\"2018-03-09\",\"2018-03-10\",\"2018-03-11\",\"2018-03-12\",\"2018-03-13\",\"2018-03-14\",\"2018-03-15\",\"2018-03-16\",\"2018-03-17\",\"2018-03-18\",\"2018-03-19\",\"2018-03-20\",\"2018-03-21\"],\"name\":\"Groups actions\",\"y\":[28841.0,28937.0,29060.0,29542.0,29474.0,29372.0,29262.0,29157.0,29023.0,28671.0,29054.0,28988.0,29314.0,29240.0,29185.0,21782.0,25990.0,27863.0,29520.0,29289.0,29567.0,29519.0,29619.0,30204.0,29454.0,29803.0,29561.0,29989.0,30089.0,30153.0,30625.0,30122.0,30068.0,29980.0,29642.0,29878.0,29877.0,30210.0,29899.0,30095.0,30077.0,29921.0,29657.0,29993.0,30421.0,30230.0,30119.0,29862.0],\"type\":\"scatter\"};\n",
       "\n",
       "  var data = [data0, data1, data2];\n",
       "  var layout = {\"title\":\"Activity\"};\n",
       " var config = {\"showEditInChartStudio\":false,\"responsive\":false,\"editable\":false};\n",
       "\n",
       "  Plotly.plot('plot-8b188211-cfdb-4588-8bdb-acfea37d8ba0', data, layout, config);\n",
       "})();\n",
       "});\n",
       "      </script>\n",
       "           "
      ]
     },
     "metadata": {},
     "output_type": "display_data"
    },
    {
     "data": {
      "text/plain": [
       "\u001b[36mplot\u001b[39m: \u001b[32mSeq\u001b[39m[\u001b[32mScatter\u001b[39m] = \u001b[33mList\u001b[39m(\n",
       "  \u001b[33mScatter\u001b[39m(\n",
       "    \u001b[33mSome\u001b[39m(\n",
       "      \u001b[33mStrings\u001b[39m(\n",
       "        \u001b[33mList\u001b[39m(\n",
       "          \u001b[32m\"2018-02-01\"\u001b[39m,\n",
       "          \u001b[32m\"2018-02-02\"\u001b[39m,\n",
       "          \u001b[32m\"2018-02-03\"\u001b[39m,\n",
       "          \u001b[32m\"2018-02-04\"\u001b[39m,\n",
       "          \u001b[32m\"2018-02-05\"\u001b[39m,\n",
       "          \u001b[32m\"2018-02-06\"\u001b[39m,\n",
       "          \u001b[32m\"2018-02-07\"\u001b[39m,\n",
       "          \u001b[32m\"2018-02-08\"\u001b[39m,\n",
       "          \u001b[32m\"2018-02-09\"\u001b[39m,\n",
       "          \u001b[32m\"2018-02-10\"\u001b[39m,\n",
       "          \u001b[32m\"2018-02-12\"\u001b[39m,\n",
       "          \u001b[32m\"2018-02-13\"\u001b[39m,\n",
       "          \u001b[32m\"2018-02-14\"\u001b[39m,\n",
       "          \u001b[32m\"2018-02-15\"\u001b[39m,\n",
       "          \u001b[32m\"2018-02-16\"\u001b[39m,\n",
       "          \u001b[32m\"2018-02-17\"\u001b[39m,\n",
       "          \u001b[32m\"2018-02-18\"\u001b[39m,\n",
       "          \u001b[32m\"2018-02-19\"\u001b[39m,\n",
       "          \u001b[32m\"2018-02-20\"\u001b[39m,\n",
       "          \u001b[32m\"2018-02-21\"\u001b[39m,\n",
       "          \u001b[32m\"2018-02-22\"\u001b[39m,\n",
       "          \u001b[32m\"2018-02-23\"\u001b[39m,\n",
       "          \u001b[32m\"2018-02-24\"\u001b[39m,\n",
       "          \u001b[32m\"2018-02-25\"\u001b[39m,\n",
       "          \u001b[32m\"2018-02-26\"\u001b[39m,\n",
       "          \u001b[32m\"2018-02-27\"\u001b[39m,\n",
       "          \u001b[32m\"2018-02-28\"\u001b[39m,\n",
       "          \u001b[32m\"2018-03-01\"\u001b[39m,\n",
       "          \u001b[32m\"2018-03-02\"\u001b[39m,\n",
       "          \u001b[32m\"2018-03-03\"\u001b[39m,\n",
       "          \u001b[32m\"2018-03-04\"\u001b[39m,\n",
       "          \u001b[32m\"2018-03-05\"\u001b[39m,\n",
       "          \u001b[32m\"2018-03-06\"\u001b[39m,\n",
       "          \u001b[32m\"2018-03-07\"\u001b[39m,\n",
       "...\n",
       "\u001b[36mres17_1\u001b[39m: \u001b[32mString\u001b[39m = \u001b[32m\"plot-8b188211-cfdb-4588-8bdb-acfea37d8ba0\"\u001b[39m"
      ]
     },
     "execution_count": 18,
     "metadata": {},
     "output_type": "execute_result"
    }
   ],
   "source": [
    "val plot = Seq(\n",
    "  Scatter(\n",
    "    dates, users, name = \"Distinct users\"\n",
    "  ),\n",
    "  Scatter(\n",
    "    dates, users_acts, name = \"Users actions\"\n",
    "  ),\n",
    "  Scatter(\n",
    "    dates, groups, name = \"Groups actions\"\n",
    "  )\n",
    ")\n",
    "\n",
    "plot.plot(\n",
    "  title = \"Activity\"\n",
    ")"
   ]
  },
  {
   "cell_type": "code",
   "execution_count": 20,
   "metadata": {},
   "outputs": [
    {
     "data": {
      "application/vnd.plotly.v1+json": {
       "config": {
        "editable": false,
        "responsive": false,
        "showEditInChartStudio": false
       },
       "data": [
        {
         "type": "bar",
         "x": [
          "2018-02-01",
          "2018-02-02",
          "2018-02-03",
          "2018-02-04",
          "2018-02-05",
          "2018-02-06",
          "2018-02-07",
          "2018-02-08",
          "2018-02-09",
          "2018-02-10",
          "2018-02-12",
          "2018-02-13",
          "2018-02-14",
          "2018-02-15",
          "2018-02-16",
          "2018-02-17",
          "2018-02-18",
          "2018-02-19",
          "2018-02-20",
          "2018-02-21",
          "2018-02-22",
          "2018-02-23",
          "2018-02-24",
          "2018-02-25",
          "2018-02-26",
          "2018-02-27",
          "2018-02-28",
          "2018-03-01",
          "2018-03-02",
          "2018-03-03",
          "2018-03-04",
          "2018-03-05",
          "2018-03-06",
          "2018-03-07",
          "2018-03-08",
          "2018-03-09",
          "2018-03-10",
          "2018-03-11",
          "2018-03-12",
          "2018-03-13",
          "2018-03-14",
          "2018-03-15",
          "2018-03-16",
          "2018-03-17",
          "2018-03-18",
          "2018-03-19",
          "2018-03-20",
          "2018-03-21"
         ],
         "y": [
          28841,
          28937,
          29060,
          29542,
          29474,
          29372,
          29262,
          29157,
          29023,
          28671,
          29054,
          28988,
          29314,
          29240,
          29185,
          21782,
          25990,
          27863,
          29520,
          29289,
          29567,
          29519,
          29619,
          30204,
          29454,
          29803,
          29561,
          29989,
          30089,
          30153,
          30625,
          30122,
          30068,
          29980,
          29642,
          29878,
          29877,
          30210,
          29899,
          30095,
          30077,
          29921,
          29657,
          29993,
          30421,
          30230,
          30119,
          29862
         ]
        }
       ],
       "layout": {
        "title": "Groups Activity by dates"
       }
      },
      "text/html": [
       "<div class=\"chart\" id=\"plot-d548b9e1-79b8-4c01-8af1-ef32f8d04430\"></div>\n",
       "<script>require(['plotly'], function(Plotly) {\n",
       "  (function () {\n",
       "  var data0 = {\"x\":[\"2018-02-01\",\"2018-02-02\",\"2018-02-03\",\"2018-02-04\",\"2018-02-05\",\"2018-02-06\",\"2018-02-07\",\"2018-02-08\",\"2018-02-09\",\"2018-02-10\",\"2018-02-12\",\"2018-02-13\",\"2018-02-14\",\"2018-02-15\",\"2018-02-16\",\"2018-02-17\",\"2018-02-18\",\"2018-02-19\",\"2018-02-20\",\"2018-02-21\",\"2018-02-22\",\"2018-02-23\",\"2018-02-24\",\"2018-02-25\",\"2018-02-26\",\"2018-02-27\",\"2018-02-28\",\"2018-03-01\",\"2018-03-02\",\"2018-03-03\",\"2018-03-04\",\"2018-03-05\",\"2018-03-06\",\"2018-03-07\",\"2018-03-08\",\"2018-03-09\",\"2018-03-10\",\"2018-03-11\",\"2018-03-12\",\"2018-03-13\",\"2018-03-14\",\"2018-03-15\",\"2018-03-16\",\"2018-03-17\",\"2018-03-18\",\"2018-03-19\",\"2018-03-20\",\"2018-03-21\"],\"y\":[28841.0,28937.0,29060.0,29542.0,29474.0,29372.0,29262.0,29157.0,29023.0,28671.0,29054.0,28988.0,29314.0,29240.0,29185.0,21782.0,25990.0,27863.0,29520.0,29289.0,29567.0,29519.0,29619.0,30204.0,29454.0,29803.0,29561.0,29989.0,30089.0,30153.0,30625.0,30122.0,30068.0,29980.0,29642.0,29878.0,29877.0,30210.0,29899.0,30095.0,30077.0,29921.0,29657.0,29993.0,30421.0,30230.0,30119.0,29862.0],\"type\":\"bar\"};\n",
       "\n",
       "  var data = [data0];\n",
       "  var layout = {\"title\":\"Groups Activity by dates\"};\n",
       " var config = {\"showEditInChartStudio\":false,\"responsive\":false,\"editable\":false};\n",
       "\n",
       "  Plotly.plot('plot-d548b9e1-79b8-4c01-8af1-ef32f8d04430', data, layout, config);\n",
       "})();\n",
       "});\n",
       "      </script>\n",
       "           "
      ]
     },
     "metadata": {},
     "output_type": "display_data"
    },
    {
     "data": {
      "text/plain": [
       "\u001b[36mres19\u001b[39m: \u001b[32mString\u001b[39m = \u001b[32m\"plot-d548b9e1-79b8-4c01-8af1-ef32f8d04430\"\u001b[39m"
      ]
     },
     "execution_count": 20,
     "metadata": {},
     "output_type": "execute_result"
    }
   ],
   "source": [
    "Bar(dates, groups).plot(\n",
    "  title = \"Groups Activity by dates\"\n",
    ")"
   ]
  },
  {
   "cell_type": "markdown",
   "metadata": {},
   "source": [
    "### 3. Посчитайте корреляцию признаков с целевой переменной"
   ]
  },
  {
   "cell_type": "code",
   "execution_count": 45,
   "metadata": {},
   "outputs": [
    {
     "data": {
      "text/plain": [
       "\u001b[32mimport \u001b[39m\u001b[36morg.apache.spark.ml.linalg.{Matrix, Vectors}\n",
       "\u001b[39m\n",
       "\u001b[32mimport \u001b[39m\u001b[36morg.apache.spark.ml.stat.Correlation\n",
       "\u001b[39m\n",
       "\u001b[32mimport \u001b[39m\u001b[36morg.apache.spark.sql.Row\u001b[39m"
      ]
     },
     "execution_count": 45,
     "metadata": {},
     "output_type": "execute_result"
    }
   ],
   "source": [
    "import org.apache.spark.ml.linalg.{Matrix, Vectors}\n",
    "import org.apache.spark.ml.stat.Correlation\n",
    "import org.apache.spark.sql.Row"
   ]
  },
  {
   "cell_type": "code",
   "execution_count": 29,
   "metadata": {},
   "outputs": [
    {
     "data": {
      "text/plain": [
       "\u001b[36mtarget\u001b[39m: \u001b[32mDataFrame\u001b[39m = [feedback: array<string>]"
      ]
     },
     "execution_count": 29,
     "metadata": {},
     "output_type": "execute_result"
    }
   ],
   "source": [
    "val target_col_name = Seq(\"feedback\", \"objectId\", \"metadata_ownerId\", \"instanceId_userId\", \"instanceId_objectId\")\n",
    "val feat_col_names = train.columns.diff(target_col_name)\n",
    "val feat_cols = feat_col_names.map(cn => org.apache.spark.sql.functions.col(cn))\n",
    "val featsdf = train.select(feat_cols: _*)\n",
    "val target = train.select(\"feedback\")"
   ]
  },
  {
   "cell_type": "code",
   "execution_count": 42,
   "metadata": {},
   "outputs": [
    {
     "data": {
      "text/plain": [
       "\u001b[36mtarget_liked\u001b[39m: \u001b[32mDataFrame\u001b[39m = [feedback: array<string>, Liked: boolean]\n",
       "\u001b[36mbin_target_liked\u001b[39m: \u001b[32mDataFrame\u001b[39m = [Liked: boolean]"
      ]
     },
     "execution_count": 42,
     "metadata": {},
     "output_type": "execute_result"
    }
   ],
   "source": [
    "val target_liked = target.withColumn(\n",
    "  \"Liked\",\n",
    "  functions.array_contains(functions.col(\"feedback\"), \"Liked\")\n",
    ")\n",
    "val bin_target_liked = binary_target_liked.select(\"Liked\")"
   ]
  },
  {
   "cell_type": "code",
   "execution_count": 46,
   "metadata": {},
   "outputs": [
    {
     "data": {
      "text/html": [
       "<div>\n",
       "  <span style=\"float: left;\">first at RowMatrix.scala:61</span>\n",
       "</div>\n"
      ]
     },
     "metadata": {},
     "output_type": "display_data"
    },
    {
     "data": {
      "text/html": [
       "<div class=\"progress\">\n",
       "  <div class=\"progress-bar\" role=\"progressbar\" style=\"background-color: blue; width: 100%; word-wrap: normal; white-space: nowrap; text-align: center; color: white\" aria-valuenow=\"100\" aria-valuemin=\"0\" aria-valuemax=\"100\">\n",
       "    1 / 1\n",
       "  </div>\n",
       "  <div class=\"progress-bar\" role=\"progressbar\" style=\"background-color: red; width: 0%\" aria-valuenow=\"0\" aria-valuemin=\"0\" aria-valuemax=\"100\"></div>\n",
       "</div>\n"
      ]
     },
     "metadata": {},
     "output_type": "display_data"
    },
    {
     "data": {
      "text/html": [
       "<div>\n",
       "  <span style=\"float: left;\">treeAggregate at RowMatrix.scala:419</span>\n",
       "</div>\n"
      ]
     },
     "metadata": {},
     "output_type": "display_data"
    },
    {
     "data": {
      "text/html": [
       "<div class=\"progress\">\n",
       "  <div class=\"progress-bar\" role=\"progressbar\" style=\"background-color: blue; width: 100%; word-wrap: normal; white-space: nowrap; text-align: center; color: white\" aria-valuenow=\"100\" aria-valuemin=\"0\" aria-valuemax=\"100\">\n",
       "    4 / 4\n",
       "  </div>\n",
       "  <div class=\"progress-bar\" role=\"progressbar\" style=\"background-color: red; width: 0%\" aria-valuenow=\"0\" aria-valuemin=\"0\" aria-valuemax=\"100\"></div>\n",
       "</div>\n"
      ]
     },
     "metadata": {},
     "output_type": "display_data"
    },
    {
     "data": {
      "text/html": [
       "<div>\n",
       "  <span style=\"float: left;\">treeAggregate at RowMatrix.scala:122</span>\n",
       "</div>\n"
      ]
     },
     "metadata": {},
     "output_type": "display_data"
    },
    {
     "data": {
      "text/html": [
       "<div class=\"progress\">\n",
       "  <div class=\"progress-bar\" role=\"progressbar\" style=\"background-color: blue; width: 100%; word-wrap: normal; white-space: nowrap; text-align: center; color: white\" aria-valuenow=\"100\" aria-valuemin=\"0\" aria-valuemax=\"100\">\n",
       "    4 / 4\n",
       "  </div>\n",
       "  <div class=\"progress-bar\" role=\"progressbar\" style=\"background-color: red; width: 0%\" aria-valuenow=\"0\" aria-valuemin=\"0\" aria-valuemax=\"100\"></div>\n",
       "</div>\n"
      ]
     },
     "metadata": {},
     "output_type": "display_data"
    },
    {
     "name": "stderr",
     "output_type": "stream",
     "text": [
      "20/09/06 17:20:15 WARN BLAS: Failed to load implementation from: com.github.fommil.netlib.NativeSystemBLAS\n",
      "20/09/06 17:20:15 WARN BLAS: Failed to load implementation from: com.github.fommil.netlib.NativeRefBLAS\n"
     ]
    },
    {
     "name": "stdout",
     "output_type": "stream",
     "text": [
      "Pearson correlation matrix:n 1.0                   0.055641488407465814  NaN  0.4004714203168137  \n",
      "0.055641488407465814  1.0                   NaN  0.9135958615342522  \n",
      "NaN                   NaN                   1.0  NaN                 \n",
      "0.4004714203168137    0.9135958615342522    NaN  1.0                 \n",
      "\n"
     ]
    },
    {
     "data": {
      "text/html": [
       "<div>\n",
       "  <span style=\"float: left;\">sortByKey at SpearmanCorrelation.scala:54</span>\n",
       "</div>\n"
      ]
     },
     "metadata": {},
     "output_type": "display_data"
    },
    {
     "data": {
      "text/html": [
       "<div class=\"progress\">\n",
       "  <div class=\"progress-bar\" role=\"progressbar\" style=\"background-color: blue; width: 100%; word-wrap: normal; white-space: nowrap; text-align: center; color: white\" aria-valuenow=\"100\" aria-valuemin=\"0\" aria-valuemax=\"100\">\n",
       "    4 / 4\n",
       "  </div>\n",
       "  <div class=\"progress-bar\" role=\"progressbar\" style=\"background-color: red; width: 0%\" aria-valuenow=\"0\" aria-valuemin=\"0\" aria-valuemax=\"100\"></div>\n",
       "</div>\n"
      ]
     },
     "metadata": {},
     "output_type": "display_data"
    },
    {
     "data": {
      "text/html": [
       "<div>\n",
       "  <span style=\"float: left;\">flatMap at SpearmanCorrelation.scala:48</span>\n",
       "</div>\n"
      ]
     },
     "metadata": {},
     "output_type": "display_data"
    },
    {
     "data": {
      "text/html": [
       "<div class=\"progress\">\n",
       "  <div class=\"progress-bar\" role=\"progressbar\" style=\"background-color: blue; width: 100%; word-wrap: normal; white-space: nowrap; text-align: center; color: white\" aria-valuenow=\"100\" aria-valuemin=\"0\" aria-valuemax=\"100\">\n",
       "    4 / 4\n",
       "  </div>\n",
       "  <div class=\"progress-bar\" role=\"progressbar\" style=\"background-color: red; width: 0%\" aria-valuenow=\"0\" aria-valuemin=\"0\" aria-valuemax=\"100\"></div>\n",
       "</div>\n"
      ]
     },
     "metadata": {},
     "output_type": "display_data"
    },
    {
     "data": {
      "text/html": [
       "<div>\n",
       "  <span style=\"float: left;\">zipWithIndex at SpearmanCorrelation.scala:56</span>\n",
       "</div>\n"
      ]
     },
     "metadata": {},
     "output_type": "display_data"
    },
    {
     "data": {
      "text/html": [
       "<div class=\"progress\">\n",
       "  <div class=\"progress-bar\" role=\"progressbar\" style=\"background-color: blue; width: 100%; word-wrap: normal; white-space: nowrap; text-align: center; color: white\" aria-valuenow=\"100\" aria-valuemin=\"0\" aria-valuemax=\"100\">\n",
       "    3 / 3\n",
       "  </div>\n",
       "  <div class=\"progress-bar\" role=\"progressbar\" style=\"background-color: red; width: 0%\" aria-valuenow=\"0\" aria-valuemin=\"0\" aria-valuemax=\"100\"></div>\n",
       "</div>\n"
      ]
     },
     "metadata": {},
     "output_type": "display_data"
    },
    {
     "data": {
      "text/html": [
       "<div>\n",
       "  <span style=\"float: left;\">mapPartitions at SpearmanCorrelation.scala:56</span>\n",
       "</div>\n"
      ]
     },
     "metadata": {},
     "output_type": "display_data"
    },
    {
     "data": {
      "text/html": [
       "<div class=\"progress\">\n",
       "  <div class=\"progress-bar\" role=\"progressbar\" style=\"background-color: blue; width: 100%; word-wrap: normal; white-space: nowrap; text-align: center; color: white\" aria-valuenow=\"100\" aria-valuemin=\"0\" aria-valuemax=\"100\">\n",
       "    4 / 4\n",
       "  </div>\n",
       "  <div class=\"progress-bar\" role=\"progressbar\" style=\"background-color: red; width: 0%\" aria-valuenow=\"0\" aria-valuemin=\"0\" aria-valuemax=\"100\"></div>\n",
       "</div>\n"
      ]
     },
     "metadata": {},
     "output_type": "display_data"
    },
    {
     "data": {
      "text/html": [
       "<div>\n",
       "  <span style=\"float: left;\">first at RowMatrix.scala:61</span>\n",
       "</div>\n"
      ]
     },
     "metadata": {},
     "output_type": "display_data"
    },
    {
     "data": {
      "text/html": [
       "<div class=\"progress\">\n",
       "  <div class=\"progress-bar\" role=\"progressbar\" style=\"background-color: blue; width: 100%; word-wrap: normal; white-space: nowrap; text-align: center; color: white\" aria-valuenow=\"100\" aria-valuemin=\"0\" aria-valuemax=\"100\">\n",
       "    1 / 1\n",
       "  </div>\n",
       "  <div class=\"progress-bar\" role=\"progressbar\" style=\"background-color: red; width: 0%\" aria-valuenow=\"0\" aria-valuemin=\"0\" aria-valuemax=\"100\"></div>\n",
       "</div>\n"
      ]
     },
     "metadata": {},
     "output_type": "display_data"
    },
    {
     "data": {
      "text/html": [
       "<div>\n",
       "  <span style=\"float: left;\">treeAggregate at RowMatrix.scala:419</span>\n",
       "</div>\n"
      ]
     },
     "metadata": {},
     "output_type": "display_data"
    },
    {
     "data": {
      "text/html": [
       "<div class=\"progress\">\n",
       "  <div class=\"progress-bar\" role=\"progressbar\" style=\"background-color: blue; width: 100%; word-wrap: normal; white-space: nowrap; text-align: center; color: white\" aria-valuenow=\"100\" aria-valuemin=\"0\" aria-valuemax=\"100\">\n",
       "    4 / 4\n",
       "  </div>\n",
       "  <div class=\"progress-bar\" role=\"progressbar\" style=\"background-color: red; width: 0%\" aria-valuenow=\"0\" aria-valuemin=\"0\" aria-valuemax=\"100\"></div>\n",
       "</div>\n"
      ]
     },
     "metadata": {},
     "output_type": "display_data"
    },
    {
     "data": {
      "text/html": [
       "<div>\n",
       "  <span style=\"float: left;\">treeAggregate at RowMatrix.scala:122</span>\n",
       "</div>\n"
      ]
     },
     "metadata": {},
     "output_type": "display_data"
    },
    {
     "data": {
      "text/html": [
       "<div class=\"progress\">\n",
       "  <div class=\"progress-bar\" role=\"progressbar\" style=\"background-color: blue; width: 100%; word-wrap: normal; white-space: nowrap; text-align: center; color: white\" aria-valuenow=\"100\" aria-valuemin=\"0\" aria-valuemax=\"100\">\n",
       "    4 / 4\n",
       "  </div>\n",
       "  <div class=\"progress-bar\" role=\"progressbar\" style=\"background-color: red; width: 0%\" aria-valuenow=\"0\" aria-valuemin=\"0\" aria-valuemax=\"100\"></div>\n",
       "</div>\n"
      ]
     },
     "metadata": {},
     "output_type": "display_data"
    },
    {
     "name": "stdout",
     "output_type": "stream",
     "text": [
      "Spearman correlation matrix:n 1.0                  0.10540925533894532  NaN  0.40000000000000174  \n",
      "0.10540925533894532  1.0                  NaN  0.9486832980505141   \n",
      "NaN                  NaN                  1.0  NaN                  \n",
      "0.40000000000000174  0.9486832980505141   NaN  1.0                  \n",
      "\n"
     ]
    },
    {
     "data": {
      "text/plain": [
       "\u001b[36mdata\u001b[39m: \u001b[32mSeq\u001b[39m[\u001b[32morg\u001b[39m.\u001b[32mapache\u001b[39m.\u001b[32mspark\u001b[39m.\u001b[32mml\u001b[39m.\u001b[32mlinalg\u001b[39m.\u001b[32mVector\u001b[39m] = \u001b[33mList\u001b[39m(\n",
       "  [1.0,0.0,0.0,-2.0],\n",
       "  [4.0,5.0,0.0,3.0],\n",
       "  [6.0,7.0,0.0,8.0],\n",
       "  [9.0,0.0,0.0,1.0]\n",
       ")\n",
       "\u001b[36mdf\u001b[39m: \u001b[32mDataFrame\u001b[39m = [features: vector]\n",
       "\u001b[36mcoeff1\u001b[39m: \u001b[32mMatrix\u001b[39m = 1.0                   0.055641488407465814  NaN  0.4004714203168137  \n",
       "0.055641488407465814  1.0                   NaN  0.9135958615342522  \n",
       "NaN                   NaN                   1.0  NaN                 \n",
       "0.4004714203168137    0.9135958615342522    NaN  1.0                 \n",
       "\u001b[36mcoeff2\u001b[39m: \u001b[32mMatrix\u001b[39m = 1.0                  0.10540925533894532  NaN  0.40000000000000174  \n",
       "0.10540925533894532  1.0                  NaN  0.9486832980505141   \n",
       "NaN                  NaN                  1.0  NaN                  \n",
       "0.40000000000000174  0.9486832980505141   NaN  1.0                  "
      ]
     },
     "execution_count": 46,
     "metadata": {},
     "output_type": "execute_result"
    }
   ],
   "source": [
    "val data = Seq(\n",
    "Vectors.dense(1.0, 0.0, 0.0,-2.0),\n",
    "Vectors.dense(4.0, 5.0, 0.0, 3.0),\n",
    "Vectors.dense(6.0, 7.0, 0.0, 8.0),\n",
    "Vectors.dense(9.0, 0.0, 0.0, 1.0)\n",
    ")\n",
    "\n",
    "val df = data.map(Tuple1.apply).toDF(\"features\")\n",
    "\n",
    "val coeff1 = Correlation.corr(df, \"features\").head match {\n",
    "  case Row(coeff1: Matrix) => coeff1\n",
    "}\n",
    "\n",
    "println(s\"Pearson correlation matrix:n $coeff1\\n\")\n",
    "\n",
    "val coeff2 = Correlation.corr(df, \"features\",\"spearman\").head match {\n",
    "  case Row(coeff2: Matrix) => coeff2\n",
    "}\n",
    "\n",
    "println(s\"Spearman correlation matrix:n $coeff2\\n\")"
   ]
  },
  {
   "cell_type": "markdown",
   "metadata": {},
   "source": [
    "### 4. Найдите другие интересные инсайты в данных"
   ]
  },
  {
   "cell_type": "code",
   "execution_count": null,
   "metadata": {},
   "outputs": [],
   "source": []
  }
 ],
 "metadata": {
  "kernelspec": {
   "display_name": "Scala 2.12",
   "language": "scala",
   "name": "scala212"
  },
  "language_info": {
   "codemirror_mode": "text/x-scala",
   "file_extension": ".sc",
   "mimetype": "text/x-scala",
   "name": "scala",
   "nbconvert_exporter": "script",
   "version": "2.12.12"
  }
 },
 "nbformat": 4,
 "nbformat_minor": 4
}
